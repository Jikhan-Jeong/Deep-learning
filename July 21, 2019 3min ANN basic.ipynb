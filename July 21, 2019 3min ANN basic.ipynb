{
 "cells": [
  {
   "cell_type": "markdown",
   "metadata": {},
   "source": [
    "# July 21, 2019 3min ANN basic\n",
    "* name: Jikhan Jeong\n",
    "* reference: https://github.com/jskDr/keraspp"
   ]
  },
  {
   "cell_type": "code",
   "execution_count": 1,
   "metadata": {},
   "outputs": [
    {
     "name": "stderr",
     "output_type": "stream",
     "text": [
      "Using TensorFlow backend.\n"
     ]
    }
   ],
   "source": [
    "from keras import layers, models"
   ]
  },
  {
   "cell_type": "markdown",
   "metadata": {},
   "source": [
    "# DIstributed Style Coding for ANN"
   ]
  },
  {
   "cell_type": "code",
   "execution_count": 6,
   "metadata": {},
   "outputs": [],
   "source": [
    "def ANN_models_func(Nin, Nh, Nout):\n",
    "    x = layers.Input(shape(Nin,))\n",
    "    h = layers.Activation('relu')(layers.Dense(Nh)(x))\n",
    "    y = layaers.Activation('softmax')(layers.Dense(Nout)(x))\n",
    "    model = models.Model(x, y)\n",
    "    model.comfile(loss='categorical_crossentropy', opttimizer='adam', metrics=['accuracy'])\n",
    "    return model"
   ]
  },
  {
   "cell_type": "markdown",
   "metadata": {},
   "source": [
    "# Seq Style Coding for ANN"
   ]
  },
  {
   "cell_type": "code",
   "execution_count": 5,
   "metadata": {},
   "outputs": [],
   "source": [
    "def ANN_seq_func(Nin, Nh, Nout):\n",
    "    model = models.Sequential()\n",
    "    model.add(layers.Dense(Nh, activation='relu', input_shape=(Nin,)))\n",
    "    model.add(layers.Dense(Nout, activation ='softmax'))\n",
    "    model.comfile(loss='categorical_crossentropy', opttimizer='adam', metrics=['accuracy'])\n",
    "    return model"
   ]
  },
  {
   "cell_type": "markdown",
   "metadata": {},
   "source": [
    "# Objective Distributed Style Coding for ANN"
   ]
  },
  {
   "cell_type": "code",
   "execution_count": 8,
   "metadata": {},
   "outputs": [],
   "source": [
    "class ANN_models_class(models.Model): # from model.Model, bring some method = parament class\n",
    "    def __init__(self, Nin, Nh, Nout):\n",
    "        \n",
    "        # network layers and activation function\n",
    "        \n",
    "        hidden = layers.Dense(Nh)\n",
    "        output = lyaers.Dense(Nout)\n",
    "        relu = layers.Activation('relu')\n",
    "        softmax = layers.Activation('softmax')\n",
    "        \n",
    "        # connect network elements\n",
    "        \n",
    "        x = layers.Input(shape=(Nin,))\n",
    "        h = relu(hidden(x))\n",
    "        y = softmax(output(h))\n",
    "        \n",
    "        super().__init__(x,y) # initialization of parament class = models.Model\n",
    "        self.compile(loss='categorical_crossentropy', optimizer ='adam', metrics=['accuracy'])"
   ]
  },
  {
   "cell_type": "markdown",
   "metadata": {},
   "source": [
    "# Objective Seq Style Coding for ANN"
   ]
  },
  {
   "cell_type": "code",
   "execution_count": 20,
   "metadata": {},
   "outputs": [],
   "source": [
    "class ANN_seq_class(models.Sequential):\n",
    "    def __init__(self, Nin, Nh, Nout):\n",
    "        super().__init__()\n",
    "        self.add(layers.Dense(Nh, activation='relu', input_shape=(Nin,)))\n",
    "        self.add(layers.Dense(Nout, activation ='softmax'))\n",
    "        self.compile(loss='categorical_crossentropy', optimizer='adam', metrics=['accuracy'])"
   ]
  },
  {
   "cell_type": "markdown",
   "metadata": {},
   "source": [
    "# Data "
   ]
  },
  {
   "cell_type": "code",
   "execution_count": 10,
   "metadata": {},
   "outputs": [],
   "source": [
    "import numpy as np\n",
    "from keras import datasets\n",
    "from keras.utils import np_utils # to catogorical"
   ]
  },
  {
   "cell_type": "code",
   "execution_count": 25,
   "metadata": {},
   "outputs": [],
   "source": [
    "def Data_func():\n",
    "    (X_train, y_train),(X_test, y_test) = datasets.mnist.load_data()\n",
    "    \n",
    "    Y_train = np_utils.to_categorical(y_train)\n",
    "    Y_test = np_utils.to_categorical(y_test) \n",
    "    \n",
    "    L, W, H = X_train.shape\n",
    "    X_train = X_train.reshape(-1, W*H)\n",
    "    X_test  = X_test.reshape(-1, W*H)\n",
    "    \n",
    "    X_train = X_train/ 255.0\n",
    "    X_test  = X_test/255.0\n",
    "    \n",
    "    return (X_train, Y_train), (X_test, Y_test)"
   ]
  },
  {
   "cell_type": "markdown",
   "metadata": {},
   "source": [
    "# Graph"
   ]
  },
  {
   "cell_type": "code",
   "execution_count": 12,
   "metadata": {},
   "outputs": [],
   "source": [
    "import matplotlib.pyplot as plt"
   ]
  },
  {
   "cell_type": "code",
   "execution_count": 13,
   "metadata": {},
   "outputs": [],
   "source": [
    "def plot_loss(history):\n",
    "    plt.plot(history.history['loss'])\n",
    "    plt.plot(history.history['val_loss'])\n",
    "    plt.title('Model Loss')\n",
    "    plt.ylabel('Loss')\n",
    "    plt.xlabel('Epoch')\n",
    "    plt.legend(['Train','Test'], loc=0)"
   ]
  },
  {
   "cell_type": "code",
   "execution_count": 14,
   "metadata": {},
   "outputs": [],
   "source": [
    "def plot_acc(history):\n",
    "    plt.plot(history.history['acc'])\n",
    "    plt.plot(history.history['val_acc'])\n",
    "    plt.title('Model accuracy')\n",
    "    plt.ylabel('Accuracy')\n",
    "    plt.xlabel('Epoch')\n",
    "    plt.legend(['Train','Test'], loc=0)"
   ]
  },
  {
   "cell_type": "markdown",
   "metadata": {},
   "source": [
    "# Main file"
   ]
  },
  {
   "cell_type": "code",
   "execution_count": 27,
   "metadata": {},
   "outputs": [
    {
     "name": "stdout",
     "output_type": "stream",
     "text": [
      "Train on 48000 samples, validate on 12000 samples\n",
      "Epoch 1/10\n",
      "48000/48000 [==============================] - 3s 64us/step - loss: 0.4026 - acc: 0.8880 - val_loss: 0.2192 - val_acc: 0.9394\n",
      "Epoch 2/10\n",
      "48000/48000 [==============================] - 2s 39us/step - loss: 0.1913 - acc: 0.9441 - val_loss: 0.1576 - val_acc: 0.9576\n",
      "Epoch 3/10\n",
      "48000/48000 [==============================] - 2s 39us/step - loss: 0.1369 - acc: 0.9615 - val_loss: 0.1297 - val_acc: 0.9641\n",
      "Epoch 4/10\n",
      "48000/48000 [==============================] - 2s 39us/step - loss: 0.1060 - acc: 0.9702 - val_loss: 0.1150 - val_acc: 0.9676\n",
      "Epoch 5/10\n",
      "48000/48000 [==============================] - 2s 39us/step - loss: 0.0863 - acc: 0.9755 - val_loss: 0.1038 - val_acc: 0.9698\n",
      "Epoch 6/10\n",
      "48000/48000 [==============================] - 2s 39us/step - loss: 0.0716 - acc: 0.9797 - val_loss: 0.0984 - val_acc: 0.9714\n",
      "Epoch 7/10\n",
      "48000/48000 [==============================] - 2s 39us/step - loss: 0.0596 - acc: 0.9829 - val_loss: 0.0956 - val_acc: 0.9722\n",
      "Epoch 8/10\n",
      "48000/48000 [==============================] - 2s 39us/step - loss: 0.0502 - acc: 0.9858 - val_loss: 0.0868 - val_acc: 0.9748\n",
      "Epoch 9/10\n",
      "48000/48000 [==============================] - 2s 39us/step - loss: 0.0428 - acc: 0.9879 - val_loss: 0.0911 - val_acc: 0.9739\n",
      "Epoch 10/10\n",
      "48000/48000 [==============================] - 2s 39us/step - loss: 0.0363 - acc: 0.9904 - val_loss: 0.0887 - val_acc: 0.9746\n",
      "10000/10000 [==============================] - 0s 17us/step\n",
      "Test Loss and Accurach -> [0.07802901454735547, 0.9754000043869019]\n"
     ]
    },
    {
     "data": {
      "image/png": "[encoded data removed]",
      "text/plain": [
       "<Figure size 432x288 with 1 Axes>"
      ]
     },
     "metadata": {
      "needs_background": "light"
     },
     "output_type": "display_data"
    },
    {
     "data": {
      "image/png": "[encoded data removed]",
      "text/plain": [
       "<Figure size 432x288 with 1 Axes>"
      ]
     },
     "metadata": {
      "needs_background": "light"
     },
     "output_type": "display_data"
    }
   ],
   "source": [
    "def main():\n",
    "    Nin = 784\n",
    "    Nh = 100\n",
    "    number_of_class = 10\n",
    "    Nout = number_of_class\n",
    "    \n",
    "    model = ANN_seq_class(Nin, Nh, Nout)\n",
    "    (X_train, Y_train), (X_test, Y_test) = Data_func()\n",
    "    \n",
    "    \n",
    "    history = model.fit(X_train, Y_train, epochs=10, batch_size=100, validation_split=0.2)\n",
    "    performance_test = model.evaluate(X_test, Y_test, batch_size=100)\n",
    "    print('Test Loss and Accurach ->', performance_test)\n",
    "    \n",
    "    plot_loss(history)\n",
    "    plt.show()\n",
    "    plot_acc(history)\n",
    "    plt.show()\n",
    "    \n",
    "if __name__ == '__main__':\n",
    "    main()"
   ]
  },
  {
   "cell_type": "code",
   "execution_count": null,
   "metadata": {},
   "outputs": [],
   "source": []
  }
 ],
 "metadata": {
  "kernelspec": {
   "display_name": "Python 3",
   "language": "python",
   "name": "python3"
  },
  "language_info": {
   "codemirror_mode": {
    "name": "ipython",
    "version": 3
   },
   "file_extension": ".py",
   "mimetype": "text/x-python",
   "name": "python",
   "nbconvert_exporter": "python",
   "pygments_lexer": "ipython3",
   "version": "3.6.8"
  }
 },
 "nbformat": 4,
 "nbformat_minor": 2
}
