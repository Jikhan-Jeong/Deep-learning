{
  "nbformat": 4,
  "nbformat_minor": 0,
  "metadata": {
    "colab": {
      "name": " Aug 5, 2019 3min LSTM with colab and gdrive .ipynb",
      "version": "0.3.2",
      "provenance": [],
      "collapsed_sections": []
    },
    "kernelspec": {
      "name": "python3",
      "display_name": "Python 3"
    },
    "accelerator": "GPU"
  },
  "cells": [
    {
      "cell_type": "markdown",
      "metadata": {
        "id": "qbQ6dyS8ew1k",
        "colab_type": "text"
      },
      "source": [
        "# Aug 5, 2019 3min LSTM for Regression \n",
        "* reference: https://github.com/jskDr/keraspp/blob/master/ex5_2_lstm_airplane.py\n",
        "* data : https://github.com/gcarq/keras-timeseries-prediction/blob/master/international-airline-passengers.csv\n",
        "* file from google drive to colab [link]( https://leebaro.tistory.com/entry/google-Colaboratory-%EC%97%90%EC%84%9C-%EA%B5%AC%EA%B8%80-%EB%93%9C%EB%9D%BC%EC%9D%B4%EB%B8%8C%EC%97%90-%EC%9E%88%EB%8A%94-%ED%8C%8C%EC%9D%BC-%EC%89%BD%EC%9D%B4%EC%9A%A9%ED%95%98%EA%B8%B0)\n",
        "\n",
        "\n",
        "Give up to run code, code is too much nasty rather than running for LSTM itself. "
      ]
    },
    {
      "cell_type": "markdown",
      "metadata": {
        "id": "hQTDRnnuyIaI",
        "colab_type": "text"
      },
      "source": [
        "# Data with Google Drive"
      ]
    },
    {
      "cell_type": "code",
      "metadata": {
        "id": "5Dz0MmvyyMDS",
        "colab_type": "code",
        "colab": {
          "base_uri": "https://localhost:8080/",
          "height": 126
        },
        "outputId": "8803fd77-b474-402b-bec2-d6474dae9a6a"
      },
      "source": [
        "from google.colab import drive\n",
        "\n",
        "drive.mount('/content/gdrive')"
      ],
      "execution_count": 1,
      "outputs": [
        {
          "output_type": "stream",
          "text": [
            "Go to this URL in a browser: https://accounts.google.com/o/oauth2/auth?client_id=947318989803-6bn6qk8qdgf4n4g3pfee6491hc0brc4i.apps.googleusercontent.com&redirect_uri=urn%3Aietf%3Awg%3Aoauth%3A2.0%3Aoob&scope=email%20https%3A%2F%2Fwww.googleapis.com%2Fauth%2Fdocs.test%20https%3A%2F%2Fwww.googleapis.com%2Fauth%2Fdrive%20https%3A%2F%2Fwww.googleapis.com%2Fauth%2Fdrive.photos.readonly%20https%3A%2F%2Fwww.googleapis.com%2Fauth%2Fpeopleapi.readonly&response_type=code\n",
            "\n",
            "Enter your authorization code:\n",
            "··········\n",
            "Mounted at /content/gdrive\n"
          ],
          "name": "stdout"
        }
      ]
    },
    {
      "cell_type": "code",
      "metadata": {
        "id": "zGQm3IfBzLoL",
        "colab_type": "code",
        "colab": {
          "base_uri": "https://localhost:8080/",
          "height": 35
        },
        "outputId": "f2d77cda-d012-445d-d9db-f471d9960ef4"
      },
      "source": [
        "!pwd"
      ],
      "execution_count": 3,
      "outputs": [
        {
          "output_type": "stream",
          "text": [
            "/content\n"
          ],
          "name": "stdout"
        }
      ]
    },
    {
      "cell_type": "code",
      "metadata": {
        "id": "LiZeKEP8zRvR",
        "colab_type": "code",
        "colab": {
          "base_uri": "https://localhost:8080/",
          "height": 35
        },
        "outputId": "e896629c-2c13-46a6-d99e-043c663d9274"
      },
      "source": [
        "!ls"
      ],
      "execution_count": 4,
      "outputs": [
        {
          "output_type": "stream",
          "text": [
            "gdrive\tsample_data\n"
          ],
          "name": "stdout"
        }
      ]
    },
    {
      "cell_type": "code",
      "metadata": {
        "id": "s2RS5xYU2cDr",
        "colab_type": "code",
        "colab": {}
      },
      "source": [
        "import pandas as pd \n",
        "df=pd.read_csv('/content/gdrive/My Drive/Colab File/airline.csv') "
      ],
      "execution_count": 0,
      "outputs": []
    },
    {
      "cell_type": "code",
      "metadata": {
        "id": "Fyrtb-Hs15Fm",
        "colab_type": "code",
        "colab": {
          "base_uri": "https://localhost:8080/",
          "height": 35
        },
        "outputId": "b8c40bec-d1e7-460c-e75a-b83ca16f94c9"
      },
      "source": [
        "type(df)"
      ],
      "execution_count": 28,
      "outputs": [
        {
          "output_type": "execute_result",
          "data": {
            "text/plain": [
              "pandas.core.frame.DataFrame"
            ]
          },
          "metadata": {
            "tags": []
          },
          "execution_count": 28
        }
      ]
    },
    {
      "cell_type": "code",
      "metadata": {
        "id": "1WGDShfc2AGq",
        "colab_type": "code",
        "colab": {
          "base_uri": "https://localhost:8080/",
          "height": 139
        },
        "outputId": "f9ab93ce-f9dd-42bf-e847-5dfbff6d8172"
      },
      "source": [
        "df.head(3)"
      ],
      "execution_count": 29,
      "outputs": [
        {
          "output_type": "execute_result",
          "data": {
            "text/html": [
              "<div>\n",
              "<style scoped>\n",
              "    .dataframe tbody tr th:only-of-type {\n",
              "        vertical-align: middle;\n",
              "    }\n",
              "\n",
              "    .dataframe tbody tr th {\n",
              "        vertical-align: top;\n",
              "    }\n",
              "\n",
              "    .dataframe thead th {\n",
              "        text-align: right;\n",
              "    }\n",
              "</style>\n",
              "<table border=\"1\" class=\"dataframe\">\n",
              "  <thead>\n",
              "    <tr style=\"text-align: right;\">\n",
              "      <th></th>\n",
              "      <th>month</th>\n",
              "      <th>passengers</th>\n",
              "    </tr>\n",
              "  </thead>\n",
              "  <tbody>\n",
              "    <tr>\n",
              "      <th>0</th>\n",
              "      <td>Jan-49</td>\n",
              "      <td>112</td>\n",
              "    </tr>\n",
              "    <tr>\n",
              "      <th>1</th>\n",
              "      <td>Feb-49</td>\n",
              "      <td>118</td>\n",
              "    </tr>\n",
              "    <tr>\n",
              "      <th>2</th>\n",
              "      <td>Mar-49</td>\n",
              "      <td>132</td>\n",
              "    </tr>\n",
              "  </tbody>\n",
              "</table>\n",
              "</div>"
            ],
            "text/plain": [
              "    month  passengers\n",
              "0  Jan-49         112\n",
              "1  Feb-49         118\n",
              "2  Mar-49         132"
            ]
          },
          "metadata": {
            "tags": []
          },
          "execution_count": 29
        }
      ]
    },
    {
      "cell_type": "markdown",
      "metadata": {
        "id": "GCjdiYslyN7i",
        "colab_type": "text"
      },
      "source": [
        "# Importing packages"
      ]
    },
    {
      "cell_type": "code",
      "metadata": {
        "id": "14F71vmsegSk",
        "colab_type": "code",
        "outputId": "91e1948c-865e-41f8-f575-f718b4b89bfc",
        "colab": {
          "base_uri": "https://localhost:8080/",
          "height": 35
        }
      },
      "source": [
        "import pandas as pd\n",
        "import numpy as np\n",
        "import matplotlib.pyplot as plt\n",
        "from sklearn import model_selection\n",
        "from keras import models, layers\n",
        "import seaborn as sns"
      ],
      "execution_count": 0,
      "outputs": [
        {
          "output_type": "stream",
          "text": [
            "Using TensorFlow backend.\n"
          ],
          "name": "stderr"
        }
      ]
    },
    {
      "cell_type": "markdown",
      "metadata": {
        "id": "hxHfJL277M7C",
        "colab_type": "text"
      },
      "source": [
        "# Run code"
      ]
    },
    {
      "cell_type": "code",
      "metadata": {
        "id": "_kAH78befAUL",
        "colab_type": "code",
        "colab": {}
      },
      "source": [
        "def main():\n",
        "  machine = Machine()\n",
        "  machine.run(epochs=100)"
      ],
      "execution_count": 0,
      "outputs": []
    },
    {
      "cell_type": "markdown",
      "metadata": {
        "id": "leN7l0Uv7POI",
        "colab_type": "text"
      },
      "source": [
        "# Learning and Evaluation"
      ]
    },
    {
      "cell_type": "code",
      "metadata": {
        "id": "U9t3FR_r7c2K",
        "colab_type": "code",
        "colab": {}
      },
      "source": [
        "class Machine():\n",
        "  \n",
        "  def __init__(self):\n",
        "    \n",
        "    self.data = Dataset()\n",
        "    shape = self.data.X.shape[1:]\n",
        "    self.model = lstm_model(shape)\n",
        "    \n",
        "  def run(self, epochs=100):\n",
        "    \n",
        "    d = self.data\n",
        "    X_train, X_test = d.X_train, d.X_test\n",
        "    y_train, y_test = d.y_train, d.y_test\n",
        "    X, y = d.X, d.y\n",
        "    m = self.model\n",
        "    history = m.fit(X_train, y_train, epochs = epochs, validation_data =[X_test, y_test], verbose=0)\n",
        "    \n",
        "    plt.plot(history.history['loss'])\n",
        "    plt.plot(history.history['val_loss'])\n",
        "    plt.title('Model Loss')\n",
        "    plt.ylabel('Loss')\n",
        "    plt.xlabel('Epoch')\n",
        "    plt.legend(['Train','Test'], loc=0)\n",
        "    plt.title('History of training')\n",
        "    plt.show()\n",
        "    \n",
        "    yp = m.predict(X_test)\n",
        "    print('loss', m.evaluate(X_test, y_test))\n",
        "    plt.plot(yp, label ='prediction')\n",
        "    plt.plot(y_test, label ='raw')\n",
        "    plt.legend(loc=0)\n",
        "    plt.title('Validation result')\n",
        "    plt.show()\n",
        "    "
      ],
      "execution_count": 0,
      "outputs": []
    },
    {
      "cell_type": "markdown",
      "metadata": {
        "id": "nHKHOjaW9eNU",
        "colab_type": "text"
      },
      "source": [
        "# LSTM Model"
      ]
    },
    {
      "cell_type": "code",
      "metadata": {
        "id": "t61kwjx99aES",
        "colab_type": "code",
        "colab": {}
      },
      "source": [
        "def lstm_model(shape):\n",
        "  m_x = layers.Input(shape=shape) # X.shape[1:]\n",
        "  m_h = layers.LSTM(10)(m_x)\n",
        "  m_y = lyaers.Dense(1)(m_x, m_y)\n",
        "  m = models.Model(m_x, m_y)\n",
        "  \n",
        "  m.compile('adam', 'mean_squared_error')\n",
        "\n",
        "  m.summary()\n",
        "  return(m)"
      ],
      "execution_count": 0,
      "outputs": []
    },
    {
      "cell_type": "markdown",
      "metadata": {
        "id": "F3q0pa2F-Lb_",
        "colab_type": "text"
      },
      "source": [
        "# Load Data set"
      ]
    },
    {
      "cell_type": "code",
      "metadata": {
        "id": "xcR4uHy698QV",
        "colab_type": "code",
        "colab": {}
      },
      "source": [
        "class Dataset:\n",
        "  \n",
        "  def __init__(self,fname =df,)"
      ],
      "execution_count": 0,
      "outputs": []
    }
  ]
}