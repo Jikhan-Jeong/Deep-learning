{
 "cells": [
  {
   "cell_type": "markdown",
   "metadata": {},
   "source": [
    "# Python Class\n",
    "* name: Jikhan Jeong\n",
    "* reference: https://wayhome25.github.io/python/2017/02/26/py-15-class-oop/"
   ]
  },
  {
   "cell_type": "code",
   "execution_count": 1,
   "metadata": {},
   "outputs": [],
   "source": [
    "s=  'hello'"
   ]
  },
  {
   "cell_type": "code",
   "execution_count": 2,
   "metadata": {},
   "outputs": [
    {
     "data": {
      "text/plain": [
       "str"
      ]
     },
     "execution_count": 2,
     "metadata": {},
     "output_type": "execute_result"
    }
   ],
   "source": [
    "type(s)"
   ]
  },
  {
   "cell_type": "code",
   "execution_count": 3,
   "metadata": {},
   "outputs": [
    {
     "data": {
      "text/plain": [
       "True"
      ]
     },
     "execution_count": 3,
     "metadata": {},
     "output_type": "execute_result"
    }
   ],
   "source": [
    "isinstance(s, str)"
   ]
  },
  {
   "cell_type": "code",
   "execution_count": 4,
   "metadata": {},
   "outputs": [],
   "source": [
    "list1 = [1, 2, 3]\n",
    "list2 = [1, 2, 3]"
   ]
  },
  {
   "cell_type": "code",
   "execution_count": 5,
   "metadata": {},
   "outputs": [
    {
     "name": "stdout",
     "output_type": "stream",
     "text": [
      "list1 = list1\n",
      "list1= list2\n",
      "list1 is not list2\n"
     ]
    }
   ],
   "source": [
    "if list1 is list1: \n",
    "    print(\"list1 = list1\")\n",
    "\n",
    "if list1 == list2: \n",
    "    print(\"list1= list2\")\n",
    "    if list1 is list2:\n",
    "        print(\"list1 = list2\")\n",
    "    else:\n",
    "        print(\"list1 is not list2\")"
   ]
  },
  {
   "cell_type": "markdown",
   "metadata": {},
   "source": [
    "# Class Building"
   ]
  },
  {
   "cell_type": "code",
   "execution_count": 29,
   "metadata": {},
   "outputs": [],
   "source": [
    "class Human():\n",
    "    '''Human'''"
   ]
  },
  {
   "cell_type": "markdown",
   "metadata": {},
   "source": [
    "# Instance Building"
   ]
  },
  {
   "cell_type": "code",
   "execution_count": 30,
   "metadata": {},
   "outputs": [],
   "source": [
    "person1 = Human() # instance 1 in human class\n",
    "person2 = Human() # instance 2 in human class"
   ]
  },
  {
   "cell_type": "code",
   "execution_count": 9,
   "metadata": {},
   "outputs": [],
   "source": [
    "a = list() # a list instance in a list class"
   ]
  },
  {
   "cell_type": "code",
   "execution_count": 10,
   "metadata": {},
   "outputs": [
    {
     "data": {
      "text/plain": [
       "True"
      ]
     },
     "execution_count": 10,
     "metadata": {},
     "output_type": "execute_result"
    }
   ],
   "source": [
    "isinstance(a, list)"
   ]
  },
  {
   "cell_type": "markdown",
   "metadata": {},
   "source": [
    "# Building Charateristics in Class"
   ]
  },
  {
   "cell_type": "code",
   "execution_count": 43,
   "metadata": {},
   "outputs": [],
   "source": [
    "person1.language ='Koreans'\n",
    "person2.language ='English'\n",
    "\n",
    "person1.name ='Suzi'\n",
    "person2.name ='SulHyun'"
   ]
  },
  {
   "cell_type": "code",
   "execution_count": 44,
   "metadata": {},
   "outputs": [],
   "source": [
    "def speak(person):\n",
    "    print('{} admire Jikhan with {}'.format(person.name, person.language))"
   ]
  },
  {
   "cell_type": "code",
   "execution_count": 45,
   "metadata": {},
   "outputs": [],
   "source": [
    "Human.speak = speak # human class will have .speak meoth by speak function"
   ]
  },
  {
   "cell_type": "code",
   "execution_count": 46,
   "metadata": {},
   "outputs": [
    {
     "name": "stdout",
     "output_type": "stream",
     "text": [
      "Suzi admire Jikhan with Koreans\n"
     ]
    }
   ],
   "source": [
    "person1.speak()"
   ]
  },
  {
   "cell_type": "code",
   "execution_count": 47,
   "metadata": {},
   "outputs": [
    {
     "name": "stdout",
     "output_type": "stream",
     "text": [
      "SulHyun admire Jikhan with English\n"
     ]
    }
   ],
   "source": [
    "person2.speak()"
   ]
  },
  {
   "cell_type": "markdown",
   "metadata": {},
   "source": [
    "# Modeling"
   ]
  },
  {
   "cell_type": "code",
   "execution_count": 57,
   "metadata": {},
   "outputs": [],
   "source": [
    "class Person():\n",
    "    '''Person Class'''\n",
    "    \n",
    "def create_human(name, weight):\n",
    "    person = Person()           # person is a instance in Person Class\n",
    "    person.name = name          # define instance charateristics\n",
    "    person.weight = weight      # define instance charateristics\n",
    "    return person               # person is an instance in Person Class\n",
    "\n",
    "Person.create = create_human    # .create method made by the function create_human\n",
    "\n",
    "person = Person.create('Hyoli', 45)\n",
    "\n",
    "def eat(person):\n",
    "    person.weight += 0.5\n",
    "    print ('{} increase its wieght by {} with eatting'.format(person.name, person.weight))\n",
    "    \n",
    "Person.eat = eat                # .eat method made by the function eat\n",
    "    \n",
    "def diet(person):\n",
    "    person.weight -=0.3\n",
    "    print('{} decrease its weight by {} with diet'.format(person.name, person.weight))\n",
    "    \n",
    "Person.diet = diet              # .diet method made by the function diet"
   ]
  },
  {
   "cell_type": "code",
   "execution_count": 58,
   "metadata": {},
   "outputs": [
    {
     "name": "stdout",
     "output_type": "stream",
     "text": [
      "Hyoli decrease its weight by 44.7 with diet\n"
     ]
    }
   ],
   "source": [
    "person.diet()"
   ]
  },
  {
   "cell_type": "code",
   "execution_count": 59,
   "metadata": {},
   "outputs": [
    {
     "name": "stdout",
     "output_type": "stream",
     "text": [
      "Hyoli increase its wieght by 45.2 with eatting\n"
     ]
    }
   ],
   "source": [
    "person.eat()"
   ]
  },
  {
   "cell_type": "markdown",
   "metadata": {},
   "source": [
    "# Method in Class"
   ]
  },
  {
   "cell_type": "code",
   "execution_count": 66,
   "metadata": {},
   "outputs": [],
   "source": [
    "class Person():\n",
    "    '''Person Class'''\n",
    "    \n",
    "    def create(name, weight):\n",
    "        person = Person()           # person is a instance in Person Class\n",
    "        person.name = name          # define instance charateristics\n",
    "        person.weight = weight      # define instance charateristics\n",
    "        return person               # person is an instance in Person Class ----------->Going to self, first method \n",
    "\n",
    "    def eat(self):\n",
    "        self.weight += 0.5\n",
    "        print ('{} increase its wieght by {} with eatting'.format(self.name, self.weight))\n",
    "    \n",
    "    def diet(self):\n",
    "        self.weight -=0.3\n",
    "        print('{} decrease its weight by {} with diet'.format(self.name, self.weight))"
   ]
  },
  {
   "cell_type": "code",
   "execution_count": 63,
   "metadata": {},
   "outputs": [],
   "source": [
    "person = Person.create('Jihyu',30)"
   ]
  },
  {
   "cell_type": "code",
   "execution_count": 65,
   "metadata": {},
   "outputs": [
    {
     "name": "stdout",
     "output_type": "stream",
     "text": [
      "Jihyu increase its wieght by 30.5 with eatting\n"
     ]
    }
   ],
   "source": [
    "person.eat()"
   ]
  },
  {
   "cell_type": "markdown",
   "metadata": {},
   "source": [
    "# Self\n",
    "* first parameter for method\n",
    "* for instance self is skipped"
   ]
  },
  {
   "cell_type": "markdown",
   "metadata": {},
   "source": [
    " # Special Methods\n",
    " __init__: automaticially run when making an instance  \n",
    " __str___: set the format of instance to print  "
   ]
  },
  {
   "cell_type": "code",
   "execution_count": 75,
   "metadata": {},
   "outputs": [],
   "source": [
    "class Person():\n",
    "    '''Person Class'''\n",
    "    \n",
    "    def __init__(self, name, weight):\n",
    "       '''initial function, automatically run when instance creates'''\n",
    "       self.name = name\n",
    "       self.weight = weight\n",
    "    \n",
    "    def __str__(self):\n",
    "        '''String function''' # set format for printing instance\n",
    "        return '{} name  {} weight'.format(self.name, self.weight)\n",
    "    "
   ]
  },
  {
   "cell_type": "code",
   "execution_count": 76,
   "metadata": {},
   "outputs": [],
   "source": [
    "person = Person('Jil','40')"
   ]
  },
  {
   "cell_type": "code",
   "execution_count": 77,
   "metadata": {},
   "outputs": [
    {
     "name": "stdout",
     "output_type": "stream",
     "text": [
      "Jil name  40 weight\n"
     ]
    }
   ],
   "source": [
    "print(person)"
   ]
  }
 ],
 "metadata": {
  "kernelspec": {
   "display_name": "Python 3",
   "language": "python",
   "name": "python3"
  },
  "language_info": {
   "codemirror_mode": {
    "name": "ipython",
    "version": 3
   },
   "file_extension": ".py",
   "mimetype": "text/x-python",
   "name": "python",
   "nbconvert_exporter": "python",
   "pygments_lexer": "ipython3",
   "version": "3.6.8"
  }
 },
 "nbformat": 4,
 "nbformat_minor": 2
}
