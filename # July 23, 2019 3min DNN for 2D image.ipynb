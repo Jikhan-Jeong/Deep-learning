{
 "cells": [
  {
   "cell_type": "markdown",
   "metadata": {},
   "source": [
    "# July 23, 2019 3min DNN for 2D Image\n",
    "* name: Jikhan Jeong\n",
    "* reference: https://github.com/jskDr/keraspp"
   ]
  },
  {
   "cell_type": "markdown",
   "metadata": {},
   "source": [
    "* DNN is useful to handle the complex data strcuture such as nlp and image"
   ]
  },
  {
   "cell_type": "markdown",
   "metadata": {},
   "source": [
    "# Parameters"
   ]
  },
  {
   "cell_type": "code",
   "execution_count": 2,
   "metadata": {},
   "outputs": [],
   "source": [
    "    Nin = 784\n",
    "    Nh = [100, 50] # for 2 hidden layers\n",
    "    number_of_class = 10\n",
    "    Nout = number_of_class"
   ]
  },
  {
   "cell_type": "markdown",
   "metadata": {},
   "source": [
    "# Data"
   ]
  },
  {
   "cell_type": "code",
   "execution_count": 3,
   "metadata": {},
   "outputs": [
    {
     "name": "stderr",
     "output_type": "stream",
     "text": [
      "Using TensorFlow backend.\n"
     ]
    }
   ],
   "source": [
    "import numpy as np\n",
    "from keras import datasets\n",
    "from keras.utils import np_utils # to catogorical"
   ]
  },
  {
   "cell_type": "code",
   "execution_count": 4,
   "metadata": {},
   "outputs": [],
   "source": [
    "(X_train, y_train),(X_test, y_test) = datasets.mnist.load_data()\n",
    "    \n",
    "y_train = np_utils.to_categorical(y_train)\n",
    "y_test = np_utils.to_categorical(y_test) \n",
    "\n",
    "L, W, H = X_train.shape\n",
    "X_train = X_train.reshape(-1, W*H)\n",
    "X_test  = X_test.reshape(-1, W*H)\n",
    "    \n",
    "X_train = X_train/ 255.0\n",
    "X_test  = X_test/255.0"
   ]
  },
  {
   "cell_type": "markdown",
   "metadata": {},
   "source": [
    "# Model Set"
   ]
  },
  {
   "cell_type": "code",
   "execution_count": 5,
   "metadata": {},
   "outputs": [],
   "source": [
    "from keras import layers, models"
   ]
  },
  {
   "cell_type": "code",
   "execution_count": 8,
   "metadata": {},
   "outputs": [],
   "source": [
    "class DNN_seq_class(models.Sequential):\n",
    "    def __init__(self, Nin, Nh, Nout):\n",
    "        super().__init__()\n",
    "        self.add(layers.Dense(Nh[0], activation='relu', input_shape=(Nin,),name ='hiddle_layer_1'))\n",
    "        self.add(layers.Dense(Nh[1], activation='relu',name ='hiddle_layer_2'))\n",
    "        self.add(layers.Dense(Nout, activation ='softmax'))\n",
    "        self.compile(loss='categorical_crossentropy', optimizer='adam', metrics=['accuracy'])"
   ]
  },
  {
   "cell_type": "markdown",
   "metadata": {},
   "source": [
    "# Learning and Evaluation"
   ]
  },
  {
   "cell_type": "code",
   "execution_count": 9,
   "metadata": {},
   "outputs": [],
   "source": [
    "model = DNN_seq_class(Nin,Nh,Nout)"
   ]
  },
  {
   "cell_type": "code",
   "execution_count": 10,
   "metadata": {},
   "outputs": [
    {
     "name": "stdout",
     "output_type": "stream",
     "text": [
      "Train on 48000 samples, validate on 12000 samples\n",
      "Epoch 1/10\n",
      "48000/48000 [==============================] - 3s 54us/step - loss: 0.3676 - acc: 0.8955 - val_loss: 0.1815 - val_acc: 0.9493\n",
      "Epoch 2/10\n",
      "48000/48000 [==============================] - 2s 49us/step - loss: 0.1552 - acc: 0.9542 - val_loss: 0.1418 - val_acc: 0.9610\n",
      "Epoch 3/10\n",
      "48000/48000 [==============================] - 3s 54us/step - loss: 0.1119 - acc: 0.9671 - val_loss: 0.1132 - val_acc: 0.9669\n",
      "Epoch 4/10\n",
      "48000/48000 [==============================] - 3s 59us/step - loss: 0.0846 - acc: 0.9748 - val_loss: 0.1033 - val_acc: 0.9700\n",
      "Epoch 5/10\n",
      "48000/48000 [==============================] - 3s 56us/step - loss: 0.0672 - acc: 0.9798 - val_loss: 0.1107 - val_acc: 0.9658\n",
      "Epoch 6/10\n",
      "48000/48000 [==============================] - 2s 51us/step - loss: 0.0557 - acc: 0.9831 - val_loss: 0.1011 - val_acc: 0.9698\n",
      "Epoch 7/10\n",
      "48000/48000 [==============================] - 2s 50us/step - loss: 0.0452 - acc: 0.9862 - val_loss: 0.1012 - val_acc: 0.9718\n",
      "Epoch 8/10\n",
      "48000/48000 [==============================] - 2s 49us/step - loss: 0.0370 - acc: 0.9890 - val_loss: 0.0957 - val_acc: 0.9728\n",
      "Epoch 9/10\n",
      "48000/48000 [==============================] - 2s 49us/step - loss: 0.0317 - acc: 0.9905 - val_loss: 0.0957 - val_acc: 0.9737\n",
      "Epoch 10/10\n",
      "48000/48000 [==============================] - 2s 48us/step - loss: 0.0264 - acc: 0.9919 - val_loss: 0.1012 - val_acc: 0.9728\n"
     ]
    }
   ],
   "source": [
    "history = model.fit(X_train, y_train, epochs=10, batch_size=100, validation_split=0.2)"
   ]
  },
  {
   "cell_type": "code",
   "execution_count": 12,
   "metadata": {},
   "outputs": [
    {
     "name": "stdout",
     "output_type": "stream",
     "text": [
      "10000/10000 [==============================] - 0s 24us/step\n"
     ]
    }
   ],
   "source": [
    "performance_test = model.evaluate(X_test, y_test, batch_size = 100)"
   ]
  },
  {
   "cell_type": "code",
   "execution_count": 13,
   "metadata": {},
   "outputs": [
    {
     "name": "stdout",
     "output_type": "stream",
     "text": [
      "Test loss and ACC is  [0.09281337932043243, 0.9736000090837479]\n"
     ]
    }
   ],
   "source": [
    "print('Test loss and ACC is ', performance_test)"
   ]
  }
 ],
 "metadata": {
  "kernelspec": {
   "display_name": "Python 3",
   "language": "python",
   "name": "python3"
  },
  "language_info": {
   "codemirror_mode": {
    "name": "ipython",
    "version": 3
   },
   "file_extension": ".py",
   "mimetype": "text/x-python",
   "name": "python",
   "nbconvert_exporter": "python",
   "pygments_lexer": "ipython3",
   "version": "3.6.8"
  }
 },
 "nbformat": 4,
 "nbformat_minor": 2
}
