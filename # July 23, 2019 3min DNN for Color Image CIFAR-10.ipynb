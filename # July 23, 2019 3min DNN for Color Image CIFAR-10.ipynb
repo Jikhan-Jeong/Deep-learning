{
 "cells": [
  {
   "cell_type": "markdown",
   "metadata": {},
   "source": [
    "# July 23, 2019 3min DNN for Color Image CIFAR-10\n",
    "* name: Jikhan Jeong\n",
    "* reference: https://github.com/jskDr/keraspp"
   ]
  },
  {
   "cell_type": "markdown",
   "metadata": {},
   "source": [
    "# 1. Data\n",
    "\n",
    "* 32 x 32 size\n",
    "* color RGB 3\n",
    "* total 32 x 32 x 3 <- color is added"
   ]
  },
  {
   "cell_type": "code",
   "execution_count": 13,
   "metadata": {},
   "outputs": [],
   "source": [
    "import numpy as np\n",
    "from keras import datasets\n",
    "from keras.utils import np_utils # to catogorical"
   ]
  },
  {
   "cell_type": "code",
   "execution_count": 24,
   "metadata": {},
   "outputs": [],
   "source": [
    "(X_train, y_train),(X_test, y_test) = datasets.cifar10.load_data()"
   ]
  },
  {
   "cell_type": "code",
   "execution_count": 25,
   "metadata": {},
   "outputs": [],
   "source": [
    "# def Data_func():\n",
    "# (X_train, y_train),(X_test, y_test) = datasets.cifar10.load_data()\n",
    "    \n",
    "Y_train = np_utils.to_categorical(y_train)\n",
    "Y_test = np_utils.to_categorical(y_test) \n",
    "    \n",
    "L, W, H, C = X_train.shape # L = data number, W = weight, H = height, C = color\n",
    "    \n",
    "X_train = X_train.reshape(-1, W*H*C) # -1 means the number of rows, L\n",
    "X_test  = X_test.reshape(-1, W*H*C)\n",
    "    \n",
    "X_train = X_train/ 255.0\n",
    "X_test  = X_test/255.0\n",
    "    \n",
    "# return (X_train, Y_train), (X_test, Y_test)"
   ]
  },
  {
   "cell_type": "markdown",
   "metadata": {},
   "source": [
    "# 2. Model\n",
    "* care for dropout can be setted in the function "
   ]
  },
  {
   "cell_type": "code",
   "execution_count": 5,
   "metadata": {},
   "outputs": [],
   "source": [
    "from keras import layers, models"
   ]
  },
  {
   "cell_type": "code",
   "execution_count": 6,
   "metadata": {},
   "outputs": [],
   "source": [
    "class DNN_seq_class(models.Sequential):\n",
    "    def __init__(self, Nin, Nh, dr_out, Nout):\n",
    "        super().__init__()\n",
    "        \n",
    "        self.add(layers.Dense(Nh[0], activation='relu', input_shape=(Nin,),name ='hiddle_layer_1'))\n",
    "        self.add(layers.Dropout(dr_out[0]))\n",
    "        \n",
    "        \n",
    "        self.add(layers.Dense(Nh[1], activation='relu',name ='hiddle_layer_2'))\n",
    "        self.add(layers.Dropout(dr_out[1]))\n",
    "        \n",
    "        self.add(layers.Dense(Nout, activation ='softmax'))\n",
    "        self.compile(loss='categorical_crossentropy', optimizer='adam', metrics=['accuracy'])"
   ]
  },
  {
   "cell_type": "markdown",
   "metadata": {},
   "source": [
    "# Graph "
   ]
  },
  {
   "cell_type": "code",
   "execution_count": 7,
   "metadata": {},
   "outputs": [],
   "source": [
    "import matplotlib.pyplot as plt"
   ]
  },
  {
   "cell_type": "markdown",
   "metadata": {},
   "source": [
    "* Loss Graph"
   ]
  },
  {
   "cell_type": "code",
   "execution_count": 8,
   "metadata": {},
   "outputs": [],
   "source": [
    "def plot_loss(history):\n",
    "    plt.plot(history.history['loss'])\n",
    "    plt.plot(history.history['val_loss'])\n",
    "    plt.title('Model Loss')\n",
    "    plt.ylabel('Loss')\n",
    "    plt.xlabel('Epoch')\n",
    "    plt.legend(['Train','Test'], loc=0)"
   ]
  },
  {
   "cell_type": "markdown",
   "metadata": {},
   "source": [
    "* Acc Graph"
   ]
  },
  {
   "cell_type": "code",
   "execution_count": 10,
   "metadata": {},
   "outputs": [],
   "source": [
    "def plot_acc(history):\n",
    "    plt.plot(history.history['acc'])\n",
    "    plt.plot(history.history['val_acc'])\n",
    "    plt.title('Model accuracy')\n",
    "    plt.ylabel('Accuracy')\n",
    "    plt.xlabel('Epoch')\n",
    "    plt.legend(['Train','Test'], loc=0)"
   ]
  },
  {
   "cell_type": "markdown",
   "metadata": {},
   "source": [
    "# Main "
   ]
  },
  {
   "cell_type": "code",
   "execution_count": 26,
   "metadata": {},
   "outputs": [
    {
     "name": "stdout",
     "output_type": "stream",
     "text": [
      "Train on 40000 samples, validate on 10000 samples\n",
      "Epoch 1/10\n",
      "40000/40000 [==============================] - 9s 222us/step - loss: 1.9388 - acc: 0.2968 - val_loss: 1.8065 - val_acc: 0.3597 - acc: 0.\n",
      "Epoch 2/10\n",
      "40000/40000 [==============================] - 8s 200us/step - loss: 1.7593 - acc: 0.3695 - val_loss: 1.8198 - val_acc: 0.3527\n",
      "Epoch 3/10\n",
      "40000/40000 [==============================] - 8s 200us/step - loss: 1.6901 - acc: 0.3944 - val_loss: 1.7099 - val_acc: 0.3889\n",
      "Epoch 4/10\n",
      "40000/40000 [==============================] - 8s 209us/step - loss: 1.6503 - acc: 0.4112 - val_loss: 1.6713 - val_acc: 0.4081\n",
      "Epoch 5/10\n",
      "40000/40000 [==============================] - 9s 217us/step - loss: 1.6092 - acc: 0.4261 - val_loss: 1.6310 - val_acc: 0.4201\n",
      "Epoch 6/10\n",
      "40000/40000 [==============================] - 9s 217us/step - loss: 1.5822 - acc: 0.4348 - val_loss: 1.6421 - val_acc: 0.4151\n",
      "Epoch 7/10\n",
      "40000/40000 [==============================] - 9s 219us/step - loss: 1.5569 - acc: 0.4428 - val_loss: 1.5983 - val_acc: 0.4335\n",
      "Epoch 8/10\n",
      "40000/40000 [==============================] - 9s 221us/step - loss: 1.5367 - acc: 0.4535 - val_loss: 1.6099 - val_acc: 0.4222\n",
      "Epoch 9/10\n",
      "40000/40000 [==============================] - 9s 223us/step - loss: 1.5267 - acc: 0.4553 - val_loss: 1.5758 - val_acc: 0.4405\n",
      "Epoch 10/10\n",
      "40000/40000 [==============================] - 9s 226us/step - loss: 1.5075 - acc: 0.4631 - val_loss: 1.5975 - val_acc: 0.4338\n",
      "10000/10000 [==============================] - 1s 83us/step\n",
      "Test Loss and Accurach -> [1.5633120810985566, 0.4459999990463257]\n"
     ]
    },
    {
     "data": {
      "image/png": "[encoded data removed]",
      "text/plain": [
       "<Figure size 432x288 with 1 Axes>"
      ]
     },
     "metadata": {
      "needs_background": "light"
     },
     "output_type": "display_data"
    },
    {
     "data": {
      "image/png": "[encoded data removed]",
      "text/plain": [
       "<Figure size 432x288 with 1 Axes>"
      ]
     },
     "metadata": {
      "needs_background": "light"
     },
     "output_type": "display_data"
    }
   ],
   "source": [
    "def main():\n",
    "    \n",
    "    # parameters\n",
    "    Nh = [100, 50]\n",
    "    dr_out =[0.0, 0.0] # drop out rate\n",
    "    number_of_class = 10\n",
    "    Nout = number_of_class\n",
    "    \n",
    "    # data\n",
    "    # (X_train, Y_train), (X_test, Y_test) = Data_func()\n",
    "    \n",
    "    # model\n",
    "    model = DNN_seq_class(X_train.shape[1], Nh, dr_out, Nout) # X_train.shape[1] = W * H * C = 32 * 32 * 3\n",
    "    \n",
    "    \n",
    "    history = model.fit(X_train, Y_train, epochs=10, batch_size=100, validation_split=0.2)\n",
    "    \n",
    "    performance_test = model.evaluate(X_test, Y_test, batch_size=100)\n",
    "    \n",
    "    print('Test Loss and Accurach ->', performance_test)\n",
    "    \n",
    "    plot_loss(history)\n",
    "    plt.show()\n",
    "    \n",
    "    plot_acc(history)\n",
    "    plt.show()\n",
    "    \n",
    "if __name__ == '__main__':\n",
    "    main()"
   ]
  }
 ],
 "metadata": {
  "kernelspec": {
   "display_name": "Python 3",
   "language": "python",
   "name": "python3"
  },
  "language_info": {
   "codemirror_mode": {
    "name": "ipython",
    "version": 3
   },
   "file_extension": ".py",
   "mimetype": "text/x-python",
   "name": "python",
   "nbconvert_exporter": "python",
   "pygments_lexer": "ipython3",
   "version": "3.6.8"
  }
 },
 "nbformat": 4,
 "nbformat_minor": 2
}
