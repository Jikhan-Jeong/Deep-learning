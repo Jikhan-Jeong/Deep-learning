{
 "cells": [
  {
   "cell_type": "markdown",
   "metadata": {},
   "source": [
    "# July 23, 2019 3min CNN for Grey Image\n",
    "* name: Jikhan Jeong\n",
    "* reference: https://github.com/jskDr/keraspp\n",
    "* Too much time consuming so that it needs HPC or GCP (Taking 3 hours even in Grey Image)\n",
    "* Next time, I will use Colab to use GPU. Then I will use HPC and GCP"
   ]
  },
  {
   "cell_type": "markdown",
   "metadata": {},
   "source": [
    "----------------------------\n",
    "* Using more layers than DNN as follows:\n",
    "* Conv2D\n",
    "* MaxPooling 2D\n",
    "* Flatten : high dim to 1 dim\n",
    "----------------------------\n",
    "* CNN is different with DNN\n",
    "* CNN do not make an 2D image as a 1D vector like DNN\n",
    "* Grey Image needs to put 1 dim for channel "
   ]
  },
  {
   "cell_type": "code",
   "execution_count": 1,
   "metadata": {},
   "outputs": [
    {
     "name": "stderr",
     "output_type": "stream",
     "text": [
      "Using TensorFlow backend.\n"
     ]
    }
   ],
   "source": [
    "import keras\n",
    "from keras import models, layers\n",
    "from keras import backend"
   ]
  },
  {
   "cell_type": "markdown",
   "metadata": {},
   "source": [
    "# 1. CNN Model"
   ]
  },
  {
   "cell_type": "code",
   "execution_count": 13,
   "metadata": {},
   "outputs": [],
   "source": [
    "class CNN(models.Sequential):\n",
    "    def __init__(self, input_shape, num_classes):\n",
    "        super().__init__() # super = paranet class = models.Sequential\n",
    "        \n",
    "        self.add(layers.Conv2D(32, kernel_size =(3, 3), activation ='relu', input_shape =input_shape))\n",
    "        self.add(layers.Conv2D(64, kernel_size =(3, 3), activation ='relu'))\n",
    "        self.add(layers.MaxPooling2D(pool_size=(2,2)))\n",
    "        self.add(layers.Dropout(0.25))\n",
    "        self.add(layers.Flatten())\n",
    "        self.add(layers.Dense(128, activation='relu'))\n",
    "        self.add(layers.Dropout(0.25))\n",
    "        self.add(layers.Dense(num_classes, activation ='softmax'))\n",
    "\n",
    "        self.compile(loss=keras.losses.categorical_crossentropy, optimizer ='rmsprop', metrics=['accuracy'])"
   ]
  },
  {
   "cell_type": "markdown",
   "metadata": {},
   "source": [
    "# 2. Data"
   ]
  },
  {
   "cell_type": "code",
   "execution_count": 5,
   "metadata": {},
   "outputs": [],
   "source": [
    "from keras import datasets"
   ]
  },
  {
   "cell_type": "code",
   "execution_count": 9,
   "metadata": {},
   "outputs": [],
   "source": [
    "class DATA():\n",
    "    def __init__(self):\n",
    "        num_classes = 10\n",
    "    \n",
    "        (x_train, y_train), (x_test, y_test) = datasets.mnist.load_data()\n",
    "    \n",
    "        img_rows, img_cols = x_train.shape[1:]\n",
    "    \n",
    "        if backend.image_data_format() == 'channels_first':\n",
    "            x_train = x_train.reshape(x_train.shape[0], 1, img_rows, img_cols)\n",
    "            x_test =  x_test.reshape(x_test.shape[0], 1, img_rows, img_cols)\n",
    "            input_shape = (1, img_row, img_cols)\n",
    "        \n",
    "        else:\n",
    "            x_train = x_train.reshape(x_train.shape[0], img_rows, img_cols,1)\n",
    "            x_test =  x_test.reshape(x_test.shape[0], img_rows, img_cols,1)\n",
    "            input_shape = (img_rows, img_cols,1)\n",
    "        \n",
    "            x_train = x_train.astype('float32')\n",
    "            x_test  = x_test.astype('float32')\n",
    "            x_train /= 255\n",
    "            x_test  /= 255\n",
    "    \n",
    "            y_train = keras.utils.to_categorical(y_train, num_classes)\n",
    "            y_test  = keras.utils.to_categorical(y_test, num_classes)\n",
    "    \n",
    "            self.input_shape = input_shape\n",
    "            self.num_classes = num_classes\n",
    "            self.x_train, self.y_train = x_train, y_train\n",
    "            self.x_test, self.y_test   = x_test, y_test"
   ]
  },
  {
   "cell_type": "markdown",
   "metadata": {},
   "source": [
    "# 3. Graph"
   ]
  },
  {
   "cell_type": "code",
   "execution_count": 10,
   "metadata": {},
   "outputs": [],
   "source": [
    "import matplotlib.pyplot as plt\n",
    "\n",
    "## Loss Graph\n",
    "\n",
    "def plot_loss(history):\n",
    "    plt.plot(history.history['loss'])\n",
    "    plt.plot(history.history['val_loss'])\n",
    "    plt.title('Model Loss')\n",
    "    plt.ylabel('Loss')\n",
    "    plt.xlabel('Epoch')\n",
    "    plt.legend(['Train','Test'], loc=0)\n",
    "\n",
    "## ACC Graph\n",
    "    \n",
    "def plot_acc(history):\n",
    "    plt.plot(history.history['acc'])\n",
    "    plt.plot(history.history['val_acc'])\n",
    "    plt.title('Model accuracy')\n",
    "    plt.ylabel('Accuracy')\n",
    "    plt.xlabel('Epoch')\n",
    "    plt.legend(['Train','Test'], loc=0)"
   ]
  },
  {
   "cell_type": "markdown",
   "metadata": {},
   "source": [
    "# 4. Main"
   ]
  },
  {
   "cell_type": "code",
   "execution_count": 14,
   "metadata": {},
   "outputs": [
    {
     "name": "stdout",
     "output_type": "stream",
     "text": [
      "Train on 48000 samples, validate on 12000 samples\n",
      "Epoch 1/10\n",
      "48000/48000 [==============================] - 905s 19ms/step - loss: 0.2045 - acc: 0.9371 - val_loss: 0.0651 - val_acc: 0.9800\n",
      "Epoch 2/10\n",
      "48000/48000 [==============================] - 901s 19ms/step - loss: 0.0689 - acc: 0.9783 - val_loss: 0.0494 - val_acc: 0.9855\n",
      "Epoch 3/10\n",
      "48000/48000 [==============================] - 940s 20ms/step - loss: 0.0505 - acc: 0.9849 - val_loss: 0.0508 - val_acc: 0.9862\n",
      "Epoch 4/10\n",
      "48000/48000 [==============================] - 852s 18ms/step - loss: 0.0428 - acc: 0.9870 - val_loss: 0.0554 - val_acc: 0.9845\n",
      "Epoch 5/10\n",
      "48000/48000 [==============================] - 854s 18ms/step - loss: 0.0371 - acc: 0.9882 - val_loss: 0.0465 - val_acc: 0.9872\n",
      "Epoch 6/10\n",
      "48000/48000 [==============================] - 853s 18ms/step - loss: 0.0350 - acc: 0.9890 - val_loss: 0.0500 - val_acc: 0.9872\n",
      "Epoch 7/10\n",
      "48000/48000 [==============================] - 934s 19ms/step - loss: 0.0337 - acc: 0.9893 - val_loss: 0.0459 - val_acc: 0.9897\n",
      "Epoch 8/10\n",
      "48000/48000 [==============================] - 846s 18ms/step - loss: 0.0323 - acc: 0.9905 - val_loss: 0.0527 - val_acc: 0.9886\n",
      "Epoch 9/10\n",
      "48000/48000 [==============================] - 882s 18ms/step - loss: 0.0296 - acc: 0.9909 - val_loss: 0.0594 - val_acc: 0.9840\n",
      "Epoch 10/10\n",
      "48000/48000 [==============================] - 952s 20ms/step - loss: 0.0286 - acc: 0.9911 - val_loss: 0.0437 - val_acc: 0.9872\n",
      "10000/10000 [==============================] - 16s 2ms/step\n",
      "\n",
      "Test loss 0.03901356802015689\n",
      "Test ACC 0.989\n"
     ]
    },
    {
     "data": {
      "image/png": "[encoded data removed]",
      "text/plain": [
       "<Figure size 432x288 with 1 Axes>"
      ]
     },
     "metadata": {
      "needs_background": "light"
     },
     "output_type": "display_data"
    },
    {
     "data": {
      "image/png": "[encoded data removed]",
      "text/plain": [
       "<Figure size 432x288 with 1 Axes>"
      ]
     },
     "metadata": {
      "needs_background": "light"
     },
     "output_type": "display_data"
    }
   ],
   "source": [
    "def main():\n",
    "    \n",
    "    # parameters\n",
    "    \n",
    "    batch_size = 128\n",
    "    epochs = 10\n",
    "    \n",
    "    data = DATA()\n",
    "    \n",
    "    model = CNN(data.input_shape, data.num_classes)\n",
    "    \n",
    "    history = model.fit(data.x_train, data.y_train, batch_size = batch_size, epochs = epochs, validation_split= 0.2)\n",
    "    \n",
    "    score = model.evaluate(data.x_test, data.y_test)\n",
    "    print()\n",
    "    print('Test loss', score[0])\n",
    "    print('Test ACC', score[1])\n",
    "    \n",
    "    plot_acc(history)\n",
    "    plt.show()\n",
    "    plot_loss(history)\n",
    "    plt.show()\n",
    "    \n",
    "    \n",
    "if __name__ == '__main__':\n",
    "    main()"
   ]
  }
 ],
 "metadata": {
  "kernelspec": {
   "display_name": "Python 3",
   "language": "python",
   "name": "python3"
  },
  "language_info": {
   "codemirror_mode": {
    "name": "ipython",
    "version": 3
   },
   "file_extension": ".py",
   "mimetype": "text/x-python",
   "name": "python",
   "nbconvert_exporter": "python",
   "pygments_lexer": "ipython3",
   "version": "3.6.8"
  }
 },
 "nbformat": 4,
 "nbformat_minor": 2
}
