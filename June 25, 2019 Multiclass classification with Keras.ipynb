{
 "cells": [
  {
   "cell_type": "markdown",
   "metadata": {},
   "source": [
    "# June 25, 2019 Multiclass classification with Keras\n",
    "* reference: Deep Learning with Python\n",
    "* name : Jikhan Jeong\n",
    "* cell to markdown : m\n",
    "* markdonw to cell : y"
   ]
  },
  {
   "cell_type": "code",
   "execution_count": 19,
   "metadata": {},
   "outputs": [],
   "source": [
    "from keras.datasets import reuters\n",
    "import numpy as np\n",
    "(train_data, train_labels), (test_data, test_labels) = reuters.load_data(num_words=10000)"
   ]
  },
  {
   "cell_type": "code",
   "execution_count": 20,
   "metadata": {},
   "outputs": [
    {
     "data": {
      "text/plain": [
       "8982"
      ]
     },
     "execution_count": 20,
     "metadata": {},
     "output_type": "execute_result"
    }
   ],
   "source": [
    "len(train_data)"
   ]
  },
  {
   "cell_type": "code",
   "execution_count": 21,
   "metadata": {},
   "outputs": [
    {
     "data": {
      "text/plain": [
       "2246"
      ]
     },
     "execution_count": 21,
     "metadata": {},
     "output_type": "execute_result"
    }
   ],
   "source": [
    "len(test_data)"
   ]
  },
  {
   "cell_type": "code",
   "execution_count": 22,
   "metadata": {},
   "outputs": [
    {
     "data": {
      "text/plain": [
       "list"
      ]
     },
     "execution_count": 22,
     "metadata": {},
     "output_type": "execute_result"
    }
   ],
   "source": [
    "type(train_data[0])"
   ]
  },
  {
   "cell_type": "code",
   "execution_count": 23,
   "metadata": {},
   "outputs": [
    {
     "data": {
      "text/plain": [
       "(8982,)"
      ]
     },
     "execution_count": 23,
     "metadata": {},
     "output_type": "execute_result"
    }
   ],
   "source": [
    "train_data.shape # 8,982 training examples and 2,246 test examples:"
   ]
  },
  {
   "cell_type": "markdown",
   "metadata": {},
   "source": [
    "* Decoding newswires back to text"
   ]
  },
  {
   "cell_type": "code",
   "execution_count": 24,
   "metadata": {},
   "outputs": [],
   "source": [
    "word_index = reuters.get_word_index()\n",
    "reverse_word_index =dict([(value, key) for (key, value) in word_index.items()])\n",
    "decoded_newswire = ' '.join([reverse_word_index.get(i -3, '?') for i in train_data[0]]) #-3 for padding, starte of seq, unknown"
   ]
  },
  {
   "cell_type": "code",
   "execution_count": 25,
   "metadata": {},
   "outputs": [
    {
     "data": {
      "text/plain": [
       "(8982,)"
      ]
     },
     "execution_count": 25,
     "metadata": {},
     "output_type": "execute_result"
    }
   ],
   "source": [
    "train_labels.shape"
   ]
  },
  {
   "cell_type": "code",
   "execution_count": 26,
   "metadata": {},
   "outputs": [
    {
     "data": {
      "text/plain": [
       "3"
      ]
     },
     "execution_count": 26,
     "metadata": {},
     "output_type": "execute_result"
    }
   ],
   "source": [
    "train_labels[0] # news categories 0-45"
   ]
  },
  {
   "cell_type": "markdown",
   "metadata": {},
   "source": [
    "* Encoding the data"
   ]
  },
  {
   "cell_type": "code",
   "execution_count": 27,
   "metadata": {},
   "outputs": [],
   "source": [
    "def vectorize_sequences(sequences, dimension=10000):\n",
    "    results = np.zeros((len(sequences), dimension))\n",
    "    for i, sequence in enumerate(sequences):\n",
    "        results[i, sequence] =1.\n",
    "    return results"
   ]
  },
  {
   "cell_type": "code",
   "execution_count": 28,
   "metadata": {},
   "outputs": [],
   "source": [
    "x_train = vectorize_sequences(train_data)"
   ]
  },
  {
   "cell_type": "code",
   "execution_count": 69,
   "metadata": {},
   "outputs": [
    {
     "data": {
      "text/plain": [
       "(8982, 10000)"
      ]
     },
     "execution_count": 69,
     "metadata": {},
     "output_type": "execute_result"
    }
   ],
   "source": [
    "x_train.shape"
   ]
  },
  {
   "cell_type": "code",
   "execution_count": 68,
   "metadata": {},
   "outputs": [],
   "source": [
    "x_test = vectorize_sequences(test_data)"
   ]
  },
  {
   "cell_type": "code",
   "execution_count": 70,
   "metadata": {},
   "outputs": [
    {
     "data": {
      "text/plain": [
       "(2246, 10000)"
      ]
     },
     "execution_count": 70,
     "metadata": {},
     "output_type": "execute_result"
    }
   ],
   "source": [
    "x_test.shape"
   ]
  },
  {
   "cell_type": "code",
   "execution_count": 30,
   "metadata": {},
   "outputs": [],
   "source": [
    "def to_one_hot(labels, dimension=46):\n",
    "    results = np.zeros((len(labels), dimension))\n",
    "    for i, label in enumerate(labels):\n",
    "        results[i, label] =1.\n",
    "    return results"
   ]
  },
  {
   "cell_type": "code",
   "execution_count": 31,
   "metadata": {},
   "outputs": [],
   "source": [
    "one_hot_train_labels  = to_one_hot(train_labels)\n",
    "one_hot_test_labels = to_one_hot(test_labels)"
   ]
  },
  {
   "cell_type": "code",
   "execution_count": 33,
   "metadata": {},
   "outputs": [
    {
     "data": {
      "text/plain": [
       "(8982, 46)"
      ]
     },
     "execution_count": 33,
     "metadata": {},
     "output_type": "execute_result"
    }
   ],
   "source": [
    "one_hot_train_labels.shape"
   ]
  },
  {
   "cell_type": "code",
   "execution_count": 34,
   "metadata": {},
   "outputs": [
    {
     "data": {
      "text/plain": [
       "(2246, 46)"
      ]
     },
     "execution_count": 34,
     "metadata": {},
     "output_type": "execute_result"
    }
   ],
   "source": [
    "one_hot_test_labels.shape"
   ]
  },
  {
   "cell_type": "markdown",
   "metadata": {},
   "source": [
    "* built-in way for categorial one-hot encoding for multi-class classification"
   ]
  },
  {
   "cell_type": "code",
   "execution_count": 35,
   "metadata": {},
   "outputs": [],
   "source": [
    "from keras.utils.np_utils import to_categorical\n",
    "one_hot_train_labels = to_categorical(train_labels)\n",
    "one_hot_test_labels = to_categorical(test_labels)"
   ]
  },
  {
   "cell_type": "markdown",
   "metadata": {},
   "source": [
    "# Model Build up"
   ]
  },
  {
   "cell_type": "code",
   "execution_count": 1,
   "metadata": {},
   "outputs": [
    {
     "name": "stderr",
     "output_type": "stream",
     "text": [
      "Using TensorFlow backend.\n"
     ]
    }
   ],
   "source": [
    "from keras import models\n",
    "from keras import layers"
   ]
  },
  {
   "cell_type": "code",
   "execution_count": 3,
   "metadata": {},
   "outputs": [],
   "source": [
    "model = models.Sequential()"
   ]
  },
  {
   "cell_type": "code",
   "execution_count": 10,
   "metadata": {},
   "outputs": [],
   "source": [
    "model.add(layers.Dense(64, activation='relu', input_shape=(10000,))) # input layers "
   ]
  },
  {
   "cell_type": "code",
   "execution_count": 36,
   "metadata": {},
   "outputs": [],
   "source": [
    "model.add(layers.Dense(64, activation='relu')) # hidden layers"
   ]
  },
  {
   "cell_type": "code",
   "execution_count": 39,
   "metadata": {},
   "outputs": [],
   "source": [
    "model.add(layers.Dense(46, activation='softmax')) # output layers 46 categories"
   ]
  },
  {
   "cell_type": "markdown",
   "metadata": {},
   "source": [
    "* output[i] = probability of different i and sum(all output)=1"
   ]
  },
  {
   "cell_type": "code",
   "execution_count": 40,
   "metadata": {},
   "outputs": [],
   "source": [
    "model.compile(optimizer='rmsprop',\n",
    "             loss='categorical_crossentropy',\n",
    "             metrics=['accuracy'])"
   ]
  },
  {
   "cell_type": "markdown",
   "metadata": {},
   "source": [
    "* validation set "
   ]
  },
  {
   "cell_type": "code",
   "execution_count": 41,
   "metadata": {},
   "outputs": [],
   "source": [
    "x_val = x_train[:1000]\n",
    "y_val = one_hot_train_labels[:1000]\n",
    "partial_x_train = x_train[1000:]\n",
    "partial_y_train = one_hot_train_labels[1000:]"
   ]
  },
  {
   "cell_type": "code",
   "execution_count": 44,
   "metadata": {},
   "outputs": [
    {
     "data": {
      "text/plain": [
       "(1000, 10000)"
      ]
     },
     "execution_count": 44,
     "metadata": {},
     "output_type": "execute_result"
    }
   ],
   "source": [
    "x_val.shape"
   ]
  },
  {
   "cell_type": "code",
   "execution_count": 45,
   "metadata": {},
   "outputs": [
    {
     "data": {
      "text/plain": [
       "(7982, 10000)"
      ]
     },
     "execution_count": 45,
     "metadata": {},
     "output_type": "execute_result"
    }
   ],
   "source": [
    "partial_x_train.shape"
   ]
  },
  {
   "cell_type": "code",
   "execution_count": 46,
   "metadata": {},
   "outputs": [
    {
     "data": {
      "text/plain": [
       "15"
      ]
     },
     "execution_count": 46,
     "metadata": {},
     "output_type": "execute_result"
    }
   ],
   "source": [
    "7982//512"
   ]
  },
  {
   "cell_type": "markdown",
   "metadata": {},
   "source": [
    "* Fitting the model with training data"
   ]
  },
  {
   "cell_type": "code",
   "execution_count": 43,
   "metadata": {},
   "outputs": [
    {
     "name": "stdout",
     "output_type": "stream",
     "text": [
      "Train on 7982 samples, validate on 1000 samples\n",
      "Epoch 1/20\n",
      "7982/7982 [==============================] - 4s 477us/step - loss: 3.7190 - acc: 0.2771 - val_loss: 3.6250 - val_acc: 0.3540\n",
      "Epoch 2/20\n",
      "7982/7982 [==============================] - 2s 239us/step - loss: 3.6005 - acc: 0.3514 - val_loss: 3.5700 - val_acc: 0.3540\n",
      "Epoch 3/20\n",
      "7982/7982 [==============================] - 2s 257us/step - loss: 3.5483 - acc: 0.3514 - val_loss: 3.5301 - val_acc: 0.3540\n",
      "Epoch 4/20\n",
      "7982/7982 [==============================] - 2s 244us/step - loss: 3.5031 - acc: 0.3514 - val_loss: 3.4904 - val_acc: 0.3540\n",
      "Epoch 5/20\n",
      "7982/7982 [==============================] - 2s 252us/step - loss: 3.4617 - acc: 0.3514 - val_loss: 3.4452 - val_acc: 0.3540\n",
      "Epoch 6/20\n",
      "7982/7982 [==============================] - 2s 246us/step - loss: 3.4220 - acc: 0.3514 - val_loss: 3.4081 - val_acc: 0.3540\n",
      "Epoch 7/20\n",
      "7982/7982 [==============================] - 2s 285us/step - loss: 3.3826 - acc: 0.3514 - val_loss: 3.3708 - val_acc: 0.3540\n",
      "Epoch 8/20\n",
      "7982/7982 [==============================] - 2s 257us/step - loss: 3.3447 - acc: 0.3514 - val_loss: 3.3360 - val_acc: 0.3540\n",
      "Epoch 9/20\n",
      "7982/7982 [==============================] - 3s 323us/step - loss: 3.3084 - acc: 0.3514 - val_loss: 3.2986 - val_acc: 0.3540\n",
      "Epoch 10/20\n",
      "7982/7982 [==============================] - 3s 383us/step - loss: 3.2712 - acc: 0.3514 - val_loss: 3.2636 - val_acc: 0.3540\n",
      "Epoch 11/20\n",
      "7982/7982 [==============================] - 4s 471us/step - loss: 3.2361 - acc: 0.3566 - val_loss: 3.2292 - val_acc: 0.3880\n",
      "Epoch 12/20\n",
      "7982/7982 [==============================] - 4s 485us/step - loss: 3.2004 - acc: 0.3956 - val_loss: 3.1968 - val_acc: 0.3890\n",
      "Epoch 13/20\n",
      "7982/7982 [==============================] - 3s 432us/step - loss: 3.1658 - acc: 0.3959 - val_loss: 3.1641 - val_acc: 0.3890\n",
      "Epoch 14/20\n",
      "7982/7982 [==============================] - 3s 432us/step - loss: 3.1328 - acc: 0.3950 - val_loss: 3.1307 - val_acc: 0.3910\n",
      "Epoch 15/20\n",
      "7982/7982 [==============================] - 3s 432us/step - loss: 3.0987 - acc: 0.3960 - val_loss: 3.0987 - val_acc: 0.3920\n",
      "Epoch 16/20\n",
      "7982/7982 [==============================] - 4s 452us/step - loss: 3.0660 - acc: 0.3960 - val_loss: 3.0672 - val_acc: 0.3920\n",
      "Epoch 17/20\n",
      "7982/7982 [==============================] - 4s 445us/step - loss: 3.0339 - acc: 0.3960 - val_loss: 3.0398 - val_acc: 0.3930\n",
      "Epoch 18/20\n",
      "7982/7982 [==============================] - 4s 454us/step - loss: 3.0029 - acc: 0.3959 - val_loss: 3.0066 - val_acc: 0.3920\n",
      "Epoch 19/20\n",
      "7982/7982 [==============================] - 4s 448us/step - loss: 2.9717 - acc: 0.3960 - val_loss: 2.9765 - val_acc: 0.3930\n",
      "Epoch 20/20\n",
      "7982/7982 [==============================] - 4s 459us/step - loss: 2.9415 - acc: 0.3960 - val_loss: 2.9475 - val_acc: 0.3930\n"
     ]
    }
   ],
   "source": [
    "history = model.fit(partial_x_train,# 7982\n",
    "                   partial_y_train,\n",
    "                   epochs=20,\n",
    "                   batch_size=512, # 7982//512 = 15\n",
    "                   validation_data =(x_val,y_val))"
   ]
  },
  {
   "cell_type": "code",
   "execution_count": 47,
   "metadata": {},
   "outputs": [],
   "source": [
    "import matplotlib.pyplot as plt"
   ]
  },
  {
   "cell_type": "code",
   "execution_count": 51,
   "metadata": {},
   "outputs": [
    {
     "data": {
      "text/plain": [
       "keras.callbacks.History"
      ]
     },
     "execution_count": 51,
     "metadata": {},
     "output_type": "execute_result"
    }
   ],
   "source": [
    "type(history)"
   ]
  },
  {
   "cell_type": "code",
   "execution_count": 52,
   "metadata": {},
   "outputs": [],
   "source": [
    "history_dictionary = history.history"
   ]
  },
  {
   "cell_type": "code",
   "execution_count": 53,
   "metadata": {},
   "outputs": [
    {
     "data": {
      "text/plain": [
       "dict"
      ]
     },
     "execution_count": 53,
     "metadata": {},
     "output_type": "execute_result"
    }
   ],
   "source": [
    "type(history_dictionary)"
   ]
  },
  {
   "cell_type": "code",
   "execution_count": 57,
   "metadata": {},
   "outputs": [
    {
     "data": {
      "text/plain": [
       "dict_keys(['val_loss', 'val_acc', 'loss', 'acc'])"
      ]
     },
     "execution_count": 57,
     "metadata": {},
     "output_type": "execute_result"
    }
   ],
   "source": [
    "history_dictionary.keys()"
   ]
  },
  {
   "cell_type": "code",
   "execution_count": 58,
   "metadata": {},
   "outputs": [],
   "source": [
    "loss = history.history['loss']\n",
    "val_loss= history_dictionary['val_loss']"
   ]
  },
  {
   "cell_type": "code",
   "execution_count": 62,
   "metadata": {},
   "outputs": [
    {
     "data": {
      "text/plain": [
       "[3.7190086188037963,\n",
       " 3.600494792185998,\n",
       " 3.548332841496096,\n",
       " 3.5031264674780034,\n",
       " 3.4617308766224784,\n",
       " 3.422040530178249,\n",
       " 3.382647022212905,\n",
       " 3.3447206776054306,\n",
       " 3.30837747549479,\n",
       " 3.271210258988562,\n",
       " 3.236143769252512,\n",
       " 3.2003762603732047,\n",
       " 3.165787050640992,\n",
       " 3.1327651932376335,\n",
       " 3.098697252244885,\n",
       " 3.066016034654614,\n",
       " 3.033935456370328,\n",
       " 3.002856337017536,\n",
       " 2.971698086651845,\n",
       " 2.9414791251387817]"
      ]
     },
     "execution_count": 62,
     "metadata": {},
     "output_type": "execute_result"
    }
   ],
   "source": [
    "loss # cross validatry error "
   ]
  },
  {
   "cell_type": "code",
   "execution_count": 59,
   "metadata": {},
   "outputs": [],
   "source": [
    "epochs = range(1, len(loss) + 1) # not recognize +1 as python do"
   ]
  },
  {
   "cell_type": "code",
   "execution_count": 61,
   "metadata": {},
   "outputs": [
    {
     "data": {
      "text/plain": [
       "20"
      ]
     },
     "execution_count": 61,
     "metadata": {},
     "output_type": "execute_result"
    }
   ],
   "source": [
    "len(epochs)"
   ]
  },
  {
   "cell_type": "markdown",
   "metadata": {},
   "source": [
    "* loss graph : training vs validation"
   ]
  },
  {
   "cell_type": "code",
   "execution_count": 63,
   "metadata": {},
   "outputs": [
    {
     "data": {
      "image/png": "[encoded data removed]",
      "text/plain": [
       "<Figure size 432x288 with 1 Axes>"
      ]
     },
     "metadata": {
      "needs_background": "light"
     },
     "output_type": "display_data"
    }
   ],
   "source": [
    "plt.plot(epochs, loss, 'bo', label ='Training_loss')\n",
    "plt.plot(epochs, val_loss,'red', label ='Validation_loss')\n",
    "plt.title('Loss graph : training vs validation')\n",
    "plt.xlabel('Epochs')\n",
    "plt.ylabel('Loss')\n",
    "plt.legend()\n",
    "plt.show()"
   ]
  },
  {
   "cell_type": "markdown",
   "metadata": {},
   "source": [
    "* accuracy graph : training vs validation"
   ]
  },
  {
   "cell_type": "code",
   "execution_count": 64,
   "metadata": {},
   "outputs": [
    {
     "data": {
      "text/plain": [
       "<Figure size 432x288 with 0 Axes>"
      ]
     },
     "metadata": {},
     "output_type": "display_data"
    }
   ],
   "source": [
    "plt.clf() # clear the graph before"
   ]
  },
  {
   "cell_type": "code",
   "execution_count": 65,
   "metadata": {},
   "outputs": [
    {
     "data": {
      "image/png": "[encoded data removed]",
      "text/plain": [
       "<Figure size 432x288 with 1 Axes>"
      ]
     },
     "metadata": {
      "needs_background": "light"
     },
     "output_type": "display_data"
    }
   ],
   "source": [
    "acc = history.history['acc']\n",
    "val_acc = history.history['val_acc']\n",
    "plt.plot(epochs, acc, 'bo', label='Training acc')\n",
    "plt.plot(epochs, val_acc, 'b', label='Validation acc')\n",
    "plt.title('Training and validation accuracy')\n",
    "plt.xlabel('Epochs')\n",
    "plt.ylabel('Loss')\n",
    "plt.legend()\n",
    "plt.show()"
   ]
  },
  {
   "cell_type": "code",
   "execution_count": 73,
   "metadata": {},
   "outputs": [
    {
     "name": "stdout",
     "output_type": "stream",
     "text": [
      "Train on 7982 samples, validate on 1000 samples\n",
      "Epoch 1/11\n",
      "7982/7982 [==============================] - 2s 246us/step - loss: 2.9117 - acc: 0.3960 - val_loss: 2.9303 - val_acc: 0.3810\n",
      "Epoch 2/11\n",
      "7982/7982 [==============================] - 2s 239us/step - loss: 2.8829 - acc: 0.3960 - val_loss: 2.8898 - val_acc: 0.3940\n",
      "Epoch 3/11\n",
      "7982/7982 [==============================] - 2s 233us/step - loss: 2.8540 - acc: 0.3961 - val_loss: 2.8625 - val_acc: 0.3940\n",
      "Epoch 4/11\n",
      "7982/7982 [==============================] - 2s 233us/step - loss: 2.8260 - acc: 0.3961 - val_loss: 2.8368 - val_acc: 0.3920\n",
      "Epoch 5/11\n",
      "7982/7982 [==============================] - 2s 235us/step - loss: 2.7985 - acc: 0.3961 - val_loss: 2.8111 - val_acc: 0.3930\n",
      "Epoch 6/11\n",
      "7982/7982 [==============================] - 2s 244us/step - loss: 2.7720 - acc: 0.3960 - val_loss: 2.7836 - val_acc: 0.3940\n",
      "Epoch 7/11\n",
      "7982/7982 [==============================] - 2s 234us/step - loss: 2.7450 - acc: 0.3961 - val_loss: 2.7588 - val_acc: 0.3940\n",
      "Epoch 8/11\n",
      "7982/7982 [==============================] - 2s 233us/step - loss: 2.7192 - acc: 0.3961 - val_loss: 2.7334 - val_acc: 0.3940\n",
      "Epoch 9/11\n",
      "7982/7982 [==============================] - 2s 241us/step - loss: 2.6940 - acc: 0.3961 - val_loss: 2.7089 - val_acc: 0.3940\n",
      "Epoch 10/11\n",
      "7982/7982 [==============================] - 2s 243us/step - loss: 2.6691 - acc: 0.3961 - val_loss: 2.6847 - val_acc: 0.3930\n",
      "Epoch 11/11\n",
      "7982/7982 [==============================] - 2s 235us/step - loss: 2.6451 - acc: 0.3961 - val_loss: 2.6626 - val_acc: 0.3920\n"
     ]
    },
    {
     "data": {
      "text/plain": [
       "<keras.callbacks.History at 0x1ed238ce320>"
      ]
     },
     "execution_count": 73,
     "metadata": {},
     "output_type": "execute_result"
    }
   ],
   "source": [
    "model.fit(partial_x_train,\n",
    "        partial_y_train,\n",
    "        epochs=11,\n",
    "        batch_size=512,\n",
    "        validation_data=(x_val, y_val))"
   ]
  },
  {
   "cell_type": "markdown",
   "metadata": {},
   "source": [
    "* with test set, prediction"
   ]
  },
  {
   "cell_type": "code",
   "execution_count": 74,
   "metadata": {},
   "outputs": [
    {
     "name": "stdout",
     "output_type": "stream",
     "text": [
      "2246/2246 [==============================] - 1s 243us/step\n"
     ]
    }
   ],
   "source": [
    "results = model.evaluate(x_test, one_hot_test_labels)"
   ]
  },
  {
   "cell_type": "code",
   "execution_count": 75,
   "metadata": {},
   "outputs": [
    {
     "data": {
      "text/plain": [
       "[2.6774229574500716, 0.39670525383758204]"
      ]
     },
     "execution_count": 75,
     "metadata": {},
     "output_type": "execute_result"
    }
   ],
   "source": [
    "results # test predition acc = 40%"
   ]
  },
  {
   "cell_type": "code",
   "execution_count": 77,
   "metadata": {},
   "outputs": [],
   "source": [
    "test_prediction = model.predict(x_test)"
   ]
  },
  {
   "cell_type": "code",
   "execution_count": 78,
   "metadata": {},
   "outputs": [
    {
     "data": {
      "text/plain": [
       "(46,)"
      ]
     },
     "execution_count": 78,
     "metadata": {},
     "output_type": "execute_result"
    }
   ],
   "source": [
    "test_prediction[0].shape"
   ]
  },
  {
   "cell_type": "code",
   "execution_count": 85,
   "metadata": {},
   "outputs": [
    {
     "data": {
      "text/plain": [
       "0.9999999"
      ]
     },
     "execution_count": 85,
     "metadata": {},
     "output_type": "execute_result"
    }
   ],
   "source": [
    "np.sum(test_prediction[0])"
   ]
  },
  {
   "cell_type": "code",
   "execution_count": 87,
   "metadata": {},
   "outputs": [
    {
     "data": {
      "text/plain": [
       "3"
      ]
     },
     "execution_count": 87,
     "metadata": {},
     "output_type": "execute_result"
    }
   ],
   "source": [
    "np.argmax(test_prediction[0])"
   ]
  }
 ],
 "metadata": {
  "kernelspec": {
   "display_name": "Python 3",
   "language": "python",
   "name": "python3"
  },
  "language_info": {
   "codemirror_mode": {
    "name": "ipython",
    "version": 3
   },
   "file_extension": ".py",
   "mimetype": "text/x-python",
   "name": "python",
   "nbconvert_exporter": "python",
   "pygments_lexer": "ipython3",
   "version": "3.6.8"
  }
 },
 "nbformat": 4,
 "nbformat_minor": 2
}
